{
 "cells": [
  {
   "cell_type": "code",
   "execution_count": 2,
   "metadata": {
    "scrolled": true
   },
   "outputs": [],
   "source": [
    "# Set up your Python workspace\n",
    "# Note: The STK Python API used in this lesson is\n",
    "# only available with STK 12.1.\n",
    "# If not installed then use pip to install it.\n",
    "# pip install agi.stk<..ver..>-py3-none-any.whl\n",
    "# If using an older version of STK then use win32api or Comtypes\n",
    "\n",
    "from agi.stk12.stkdesktop import STKDesktop\n",
    "from agi.stk12.stkobjects import *\n",
    "\n",
    "# When connected to STK via Python, while creating your variable, \n",
    "# using the Tab key after periods enables IntelliSense which displays \n",
    "# all of the options available off of the current interface. \n",
    "# In the next section you will start STK "
   ]
  },
  {
   "cell_type": "code",
   "execution_count": 3,
   "metadata": {},
   "outputs": [],
   "source": [
    "# NOTE FOR STK WEB: you can take advantage of STK/SDF SSO by changing \n",
    "# your script to connect to an active instance instead of creating a \n",
    "# new instance of STK:\n",
    "# Connect to an an instance of STK12\n",
    "# stk = STKDesktop.AttachToApplication()\n",
    "\n",
    "# Create a new instance of STK12.\n",
    "# Optional arguments set the application visible state and the user-control \n",
    "# (whether the application remains open after exiting python).\n",
    "stk = STKDesktop.StartApplication(visible=True, userControl=True)\n",
    "#Check your Task Manager to confirm that STK was called \n",
    "\n",
    "# Grab a handle on the STK application root.\n",
    "root = stk.Root\n",
    "\n",
    "# Recall that the AGStkObjectRoot object is at the apex of the STK Object Model. \n",
    "# The associated IAgStkObjecetRoot interface will provide the methods and properties to load \n",
    "# or create new scenarios and aaccess the Object Model Unit preferences. Through app you have \n",
    "# a pointer to the IAgUiApplication interface. How will you obtain a pointer to the IAgStkObjectRoot\n",
    "# interface? According to IAgUiApplication documentation, the stk.GetObjectRoot() property returns \n",
    "# a new instance of the root object of the STK Object Model. "
   ]
  },
  {
   "cell_type": "code",
   "execution_count": 4,
   "metadata": {},
   "outputs": [
    {
     "data": {
      "text/plain": [
       "agi.stk12.stkobjects.AgStkObjectRoot"
      ]
     },
     "execution_count": 4,
     "metadata": {},
     "output_type": "execute_result"
    }
   ],
   "source": [
    "# Check that the root object has been built correctly, check the type()\n",
    "\n",
    "type(root)\n",
    "\n",
    "# output will be \n",
    "# agi.stk12.stkobjects.AgStkObjectRoot"
   ]
  },
  {
   "cell_type": "code",
   "execution_count": 5,
   "metadata": {},
   "outputs": [],
   "source": [
    "# Now that you have launched STK via the Python interface, \n",
    "# let's see if we can create a new scenario and set the time \n",
    "# period via Python. Create a new scenario, analysis period and \n",
    "# reset the animation time.\n",
    "\n",
    "# 1. Create a new scenario.\n",
    "# The next task is to create a scenario via the NewScenario method \n",
    "# of the IAgStkObjectRoot interface. According to the documentation, \n",
    "# the NewScenario method expects to be passed a string representing \n",
    "# the name of the scenario, but does not return anything.\n",
    "root.NewScenario(\"Python_STK_Training\")\n",
    "\n",
    "scenario = root.CurrentScenario\n",
    "\n",
    "# 2. Set the analytical time period.\n",
    "\n",
    "scenario.SetTimePeriod('Today','+24hr')\n",
    "\n",
    "# 3. Reset the animation time to the newly established start time.\n",
    "\n",
    "root.Rewind();"
   ]
  },
  {
   "cell_type": "code",
   "execution_count": 6,
   "metadata": {},
   "outputs": [],
   "source": [
    "# With a new scenario created, it's time to populate the scenario \n",
    "# with objects. Use the STK Python API\n",
    "\n",
    "# 1. Add a target object to the scenario. \n",
    "target  = AgTarget(scenario.Children.New(AgESTKObjectType.eTarget,\"GroundTarget\"))\n",
    "\n",
    "# 2. Move the Target object to a desired location.\n",
    "\n",
    "target.Position.AssignGeodetic(50,-100,0)"
   ]
  },
  {
   "cell_type": "code",
   "execution_count": 7,
   "metadata": {},
   "outputs": [],
   "source": [
    "# Take a moment to create a LEO satellite using Python and\n",
    "# STK Connect commands, via the ExecuteCommand method.\n",
    "\n",
    "# 3. Add a Satellite object to the scenario.\n",
    "\n",
    "satellite  = AgSatellite(root.CurrentScenario.Children.New(AgESTKObjectType.eSatellite,\"LeoSat\"))"
   ]
  },
  {
   "cell_type": "code",
   "execution_count": 8,
   "metadata": {},
   "outputs": [
    {
     "name": "stdout",
     "output_type": "stream",
     "text": [
      "19 Jan 2021 05:00:00.000\n",
      "20 Jan 2021 05:00:00.000\n"
     ]
    }
   ],
   "source": [
    "# Examine the below connect command before running. In it we will be using the\n",
    "# Set State Classical connect command. Rather than manually setting the times\n",
    "# we will use the define scenario times. Print them to confirm. \n",
    "\n",
    "print(scenario.StartTime)\n",
    "print(scenario.StopTime)\n",
    "\n",
    "# 4. Propagate the Satellite object's orbit.\n",
    "\n",
    "root.ExecuteCommand('SetState */Satellite/LeoSat Classical TwoBody \"' + str(scenario.StartTime) + '\" \"' + str(scenario.StopTime) + '\" 60 ICRF  \"' + str(scenario.StartTime) + '\" 7200000.0 0.0 90 0.0 0.0 0.0');"
   ]
  },
  {
   "cell_type": "code",
   "execution_count": 9,
   "metadata": {},
   "outputs": [],
   "source": [
    "# Now that the scenario is fully built, the final task is to extract data and perform a basic analysis.\n",
    "# You have a scenario with a Target object and a Satellite object. \n",
    "# Determine when the Satellite object can access the Target object.\n",
    "# Locate and manually enter code into Python to compute an access between \n",
    "# two STK Objects using the IAgStkObject interface. \n",
    "# HINT: Review the Python Code snippits\n",
    "# http://help.agi.com/stkdevkit/index.htm#stkObjects/ObjModPythonCodeSamples.htm\n",
    "\n",
    "# Enter and run the lines of code to compute access between the satellite and the target\n",
    "\n",
    "access = satellite.GetAccessToObject(target)\n",
    "access.ComputeAccess();"
   ]
  },
  {
   "cell_type": "code",
   "execution_count": 10,
   "metadata": {},
   "outputs": [
    {
     "name": "stdout",
     "output_type": "stream",
     "text": [
      "['19 Jan 2021 08:52:05.288036424', '19 Jan 2021 10:32:43.928486778', '19 Jan 2021 12:14:27.919268383', '19 Jan 2021 20:22:35.534646016', '19 Jan 2021 21:59:55.028006652', '19 Jan 2021 23:41:34.439013271', '20 Jan 2021 01:28:52.071777377'] ['19 Jan 2021 09:04:59.846966898', '19 Jan 2021 10:48:24.111646478', '19 Jan 2021 12:27:32.530493254', '19 Jan 2021 20:32:53.183823836', '19 Jan 2021 22:15:11.647053212', '19 Jan 2021 23:56:18.176055050', '20 Jan 2021 01:35:17.605111331']\n"
     ]
    }
   ],
   "source": [
    "# Retrieve and view the access data in Python.\n",
    "\n",
    "accessDP         = access.DataProviders.Item('Access Data')\n",
    "\n",
    "results          = accessDP.Exec(scenario.StartTime, scenario.StopTime)\n",
    "\n",
    "accessStartTimes = results.DataSets.GetDataSetByName('Start Time').GetValues()\n",
    "\n",
    "accessStopTimes  = results.DataSets.GetDataSetByName('Stop Time').GetValues()\n",
    "\n",
    "print(accessStartTimes,accessStopTimes)"
   ]
  },
  {
   "cell_type": "code",
   "execution_count": 11,
   "metadata": {},
   "outputs": [
    {
     "name": "stdout",
     "output_type": "stream",
     "text": [
      "('19 Jan 2021 08:52:05.288', '19 Jan 2021 09:04:59.847')\n",
      "('19 Jan 2021 10:32:43.928', '19 Jan 2021 10:48:24.112')\n",
      "('19 Jan 2021 12:14:27.919', '19 Jan 2021 12:27:32.530')\n",
      "('19 Jan 2021 20:22:35.535', '19 Jan 2021 20:32:53.184')\n",
      "('19 Jan 2021 21:59:55.028', '19 Jan 2021 22:15:11.647')\n",
      "('19 Jan 2021 23:41:34.439', '19 Jan 2021 23:56:18.176')\n",
      "('20 Jan 2021 01:28:52.072', '20 Jan 2021 01:35:17.605')\n"
     ]
    }
   ],
   "source": [
    "# Note: Generating the Start & Stop times in Python can \n",
    "# also be done using the following lines of code.\n",
    "accessIntervals = access.ComputedAccessIntervalTimes\n",
    "\n",
    "dataProviderElements = ['Start Time', 'Stop Time']\n",
    "\n",
    "for i in range(0,accessIntervals.Count):\n",
    "    times = accessIntervals.GetInterval(i)\n",
    "    print(times)"
   ]
  },
  {
   "cell_type": "code",
   "execution_count": 12,
   "metadata": {},
   "outputs": [
    {
     "name": "stdout",
     "output_type": "stream",
     "text": [
      "[841.8893302305768, 841.1776873978358, 840.3308531003345, 839.3648047514721, 838.2942511532125, 837.1355119267819, 835.9062743325505, 834.6253283042813, 833.3122833577369, 831.9872713810131, 830.6706396209271, 829.382638437036, 828.1431085920332, 827.0687084781512]\n"
     ]
    }
   ],
   "source": [
    "# Retrieve and view the altitude of the satellite during an access interval.\n",
    "\n",
    "satelliteDP       = satellite.DataProviders.Item('LLA State')\n",
    "\n",
    "satelliteDP2      = satelliteDP.Group.Item('Fixed')\n",
    "\n",
    "rptElements       = ['Time', 'Lat', 'Lon', 'Alt']\n",
    "\n",
    "satelliteDPTimeVar = satelliteDP2.ExecElements(accessStartTimes,accessStopTimes, 60, rptElements)\n",
    "\n",
    "satelliteAltitude = satelliteDPTimeVar.DataSets.GetDataSetByName('Alt').GetValues()\n",
    "\n",
    "print(satelliteAltitude)"
   ]
  },
  {
   "cell_type": "code",
   "execution_count": 13,
   "metadata": {},
   "outputs": [],
   "source": [
    "# You have just completed the STK integration with Python tutorial using Jupyter Notebooks. \n",
    "# Don't forget to save your work. \n",
    "\n",
    "# Note: To save your scenario you will want to create a new directory \n",
    "# and then tell python to save all the scenario files there.\n",
    "import os\n",
    "os.mkdir('Python_STK_Training')\n",
    "\n",
    "# This will create a new folder in your scenario directory. \n",
    "# Open a file explorer window and copy the file path. The next \n",
    "# line will use your custom path.\n",
    "\n",
    "directory = os.getcwd() + \"\\Python_STK_Training\"\n",
    "root.ExecuteCommand('Save / * \\\"' + directory + '\\\"');\n",
    "\n",
    "# With your scenario safely saved, you can close out of STK. \n",
    "# Workflows like these can be expanded and automated for quickly building and analyzing missions."
   ]
  }
 ],
 "metadata": {
  "kernelspec": {
   "display_name": "Python 3",
   "language": "python",
   "name": "python3"
  },
  "language_info": {
   "codemirror_mode": {
    "name": "ipython",
    "version": 3
   },
   "file_extension": ".py",
   "mimetype": "text/x-python",
   "name": "python",
   "nbconvert_exporter": "python",
   "pygments_lexer": "ipython3",
   "version": "3.6.8"
  }
 },
 "nbformat": 4,
 "nbformat_minor": 2
}
